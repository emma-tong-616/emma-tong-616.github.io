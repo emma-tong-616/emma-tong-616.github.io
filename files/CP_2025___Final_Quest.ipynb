{
  "nbformat": 4,
  "nbformat_minor": 0,
  "metadata": {
    "colab": {
      "provenance": []
    },
    "kernelspec": {
      "name": "python3",
      "display_name": "Python 3"
    },
    "language_info": {
      "name": "python"
    }
  },
  "cells": [
    {
      "cell_type": "markdown",
      "source": [
        "# 📽 Marvel Cinematic Universe Directory\n",
        "\n"
      ],
      "metadata": {
        "id": "YQZk1vqvdRUh"
      }
    },
    {
      "cell_type": "markdown",
      "source": [
        "# 🍌 Data Structures"
      ],
      "metadata": {
        "id": "NjgcY-_scv0-"
      }
    },
    {
      "cell_type": "code",
      "source": [
        "name_dict = {'SM': ['spider-man', 2002],\n",
        "                 'SM2': ['spider-man 2', 2004],\n",
        "                 'SM3': ['spider-man 3', 2007],\n",
        "                 'IM': ['iron man', 'iron man 1', 2008],\n",
        "                 'TIH':['the incredible hulk', 2008],\n",
        "                 'IM2':['iron man 2', 2010],\n",
        "                 'TH1': ['thor', 'thor 1', 2011],\n",
        "                 'CATFA':['captain america: the first avenger', 'captain america 1', 'the first avenger', 'captain america the first avenger', 2011],\n",
        "                 'AV1':[\"marvel's the avengers\", 'the avengers', 'avengers', 'avengers 1', 2012],\n",
        "                 'TASM': ['the amazing spider-man', 2012],\n",
        "                 'IM3':['iron man 3', 2013],\n",
        "                 'THDW':['thor: the dark world', 'thor 2', 'the dark world', 'thor the dark world', 2013],\n",
        "                 'CATWS':['captain america: the winter soldier', 'captain america 2', 'the winter soldier', 'captain america the winter soldier', 2014],\n",
        "                 'TASM2': ['the amazing spider-man 2', 2014],\n",
        "                 'GOTG':['guardians of the galaxy', 'guardians of the galaxy 1', 2014],\n",
        "                 'AVAOU':['avengers: age of ultron', 'avengers 2', 'age of ultron', 2015],\n",
        "                 'AM':['ant-man', 'antman', 'ant man', 2015],\n",
        "                 'DP1': ['deadpool 1', 2016],\n",
        "                 'CACW':['captain america: civil war', 'captain america 3', 'civil war', 'captain america civil war', 2016],\n",
        "                 'DS':['doctor strange', 2016],\n",
        "                 'LO': ['logan', 2017],\n",
        "                 'GOTG2':['guardians of the galaxy vol. 2', 'guardians of the galaxy 2', 'guardians of the galaxy vol 2', 2017],\n",
        "                 'SMH':['spider-man: homecoming', 'spider man: homecoming', 'spider-man homecoming', 'spider man homecoming', 'spiderman homecoming', 'spiderman: homecoming', 'spider-man 1', 'spider man 1', 'spiderman 1', 'homecoming', 2017],\n",
        "                 'THR':['thor: ragnarok', 'thor 3', 'ragnarok', 'thor ragnarok', 2017],\n",
        "                 'BP':['black panther', 'black panther 1', 2018],\n",
        "                 'AVIW':['avengers: infinity war', 'avengers 3', 'infinity war', 'avengers infinity war', 2018],\n",
        "                 'DP2': ['deadpool 2', 2018],\n",
        "                 'AMW':['ant-man and the wasp', 'ant-man 2', 'ant man and the wasp', 'ant man 2', 2018],\n",
        "                 'CM':['captain marvel', 2019],\n",
        "                 'AVE':['avengers: endgame', 'avengers 4', 'endgame', 'avengers endgame', 2019],\n",
        "                 'SMFFH':['spider-man: far from home', 'spider man: far from home', 'spider-man far from home', 'spider man far from home', 'spiderman far from home', 'spiderman: far from home', 'spider-man 2', 'spider man 2', 'spiderman 2', 'far from home', 2019],\n",
        "                 'BW':['black widow', 2021],\n",
        "                 'SCLTR':['shang-chi and the legend of the ten rings', 'shang chi and the legend of the ten rings', 'shang-chi', 'shang chi', 'shang-chi and the legend of the 10 rings', 'shang chi and the legend of the 10 rings', 2021],\n",
        "                 'E':['eternals', 'the eternals', 2021],\n",
        "                 'SMNWH':['spider-man: no way home', 'spider man: no way home', 'spider-man no way home', 'spider man no way home', 'spiderman no way home', 'spiderman: no way home', 'spider-man 3', 'spider man 3', 'spiderman 3', 'no way home', 2021],\n",
        "                 'DSMOM':['doctor strange in the multiverse of madness', 'doctor strange 2', 'multiverse of madness', 2021],\n",
        "                 'THLAT':['thor: love and thunder', 'thor 4', 'love and thunder', 'thor love and thunder', 2022],\n",
        "                 'BPWF':['black panther: wakanda forever', 'black panther 2', 'wakanda forever', 'black panther wakanda forever', 2022],\n",
        "                 'AMWQ':['ant-man and the wasp: quantumania', 'ant-man 3', 'quantumania', 'ant man and the wasp: quantumania', 'ant man and the wasp quantumania', 'ant-man and the wasp quantumania', 2023],\n",
        "                 'GOTG3':['guardians of the galaxy vol. 3', 'guardians of the galaxy 3', 'guardians of the galaxy vol 3', 2023],\n",
        "                 'TM':['the marvels', 2023],\n",
        "                 'DW':['deadpool & wolverine', 'deadpool and wolverine', 2024],\n",
        "                 'CABNW':['captain america: brave new world', 'captain america 4', 'brave new world', 'captain america brave new world', 2025],\n",
        "                 'T*':['thunderbolts*', 'thunderbolts', 'the new avengers', 'new avengers', 'the thunderbolts', 2025]\n",
        "\n",
        "    }"
      ],
      "metadata": {
        "id": "oUX57jNAy62_"
      },
      "execution_count": 83,
      "outputs": []
    },
    {
      "cell_type": "code",
      "source": [
        "tv_dict = {'TFAWS': 'The Falcon and the Winter Soldier (2021)',\n",
        "           'L': 'Loki (2021)',\n",
        "           'WV': 'WandaVision (2021)',\n",
        "           'MM': 'Ms. Marvel (2022)',\n",
        "           'GOTGHS': 'Guardians of the Galaxy Holiday Special (2022)',\n",
        "           'IAG': 'I Am Groot (2022)',\n",
        "           'H': 'Hawkeye (2021)'}"
      ],
      "metadata": {
        "id": "VlHEQyQyd7Ja"
      },
      "execution_count": 46,
      "outputs": []
    },
    {
      "cell_type": "code",
      "source": [
        "must_watch = {'TIH': ['CABNW'],\n",
        "              'GOTG': ['GOTG3'],\n",
        "              'AM': ['AMWQ'],\n",
        "              'DS': ['DSMOM'],\n",
        "              'GOTG2': ['GOTG3', 'THLAT'],'SMH': ['SMNWH'],\n",
        "              'BP': ['BPWF'],\n",
        "              'AVIW': ['CABNW', 'GOTG3', 'THLAT'],\n",
        "              'AMW': ['AMWQ','T*'],\n",
        "              'AVE': ['CABNW', 'GOTG3', 'THLAT'],\n",
        "              'SMFFH': ['SMNWH'],\n",
        "              'WV': ['DSMOM'],\n",
        "              'TFAWS': ['CABNW', 'T*'],\n",
        "              'BW': ['T*'],\n",
        "              'L': ['AMWQ'],\n",
        "              'H': ['T*'],\n",
        "              }"
      ],
      "metadata": {
        "id": "TBTc0A6XdgRx"
      },
      "execution_count": 47,
      "outputs": []
    },
    {
      "cell_type": "code",
      "source": [
        "plot = {'AVE': ['E'],\n",
        "        'L': ['DW'],\n",
        "        'E': ['CABNW'],\n",
        "        'GOTGHS': ['GOTG3'],\n",
        "        'IAG': ['GOTG3'],\n",
        "        'THLAT': ['GOTG3'],\n",
        "        'BPWF': ['T*'],\n",
        "              }"
      ],
      "metadata": {
        "id": "uPLTwCfAfnx4"
      },
      "execution_count": 65,
      "outputs": []
    },
    {
      "cell_type": "code",
      "source": [
        "characters = {'SM': ['SMNWH'],\n",
        "              'SM2': ['SMNWH'],\n",
        "              'SM3': ['SMNWH'],\n",
        "              'IM2': ['BW'],\n",
        "              'TH': ['THLAT'],\n",
        "              'AV1': ['BW', 'THLAT'],\n",
        "              'IM3': ['SCLTR'],\n",
        "              'TASM': ['SMNWH'],\n",
        "              'CATWS': ['BW','CABNW'],\n",
        "              'TASM2': ['SMNWH'],\n",
        "              'AVAOU': ['BW', 'THLAT', 'DSMOM'],\n",
        "              'DP1': ['DW'],\n",
        "              'CACW': ['BW', 'CABNW', 'AMWQ', 'BPWF', 'SMNWH'],\n",
        "              'LO': ['DW'],\n",
        "              'THR': ['THLAT'],\n",
        "              'AVIW': ['BW', 'AMWQ', 'DSMOM', 'SMNWH'],\n",
        "              'DP2': ['DW'],\n",
        "              'CM': ['TM'],\n",
        "              'AVE': ['BW', 'AMWQ', 'SMNWH'],\n",
        "              'WV': ['TM'],\n",
        "              'BW': ['CABNW'],\n",
        "              'MM': ['TM'],\n",
        "              'CABNW': ['T*']\n",
        "              }"
      ],
      "metadata": {
        "id": "OShZNjtjgIL3"
      },
      "execution_count": 66,
      "outputs": []
    },
    {
      "cell_type": "code",
      "source": [
        "phases = {\n",
        "    'phase 1': ['IM', 'TIH', 'IM2', 'T1', 'CATFA', 'A1'],\n",
        "    'phase 2': ['IM3', 'TDW', 'CATWS', 'GOTG', 'AOU', 'AM'],\n",
        "    'phase 3': ['CACW', 'DS', 'GOTG2', 'SMH', 'TR', 'BP', 'AIW', 'AMW', 'CM', 'AE', 'SMFFH'],\n",
        "}"
      ],
      "metadata": {
        "id": "9LzmYWk8kgrI"
      },
      "execution_count": 50,
      "outputs": []
    },
    {
      "cell_type": "markdown",
      "source": [
        "# 🛫 Conversions"
      ],
      "metadata": {
        "id": "TtWYkDSuMKJc"
      }
    },
    {
      "cell_type": "code",
      "source": [
        "def convert_to_abbrev() -> str:\n",
        "    \"\"\"\n",
        "    Converts a user input movie name into an abbreviated version to use in subsequent functions.\n",
        "\n",
        "    Returns:\n",
        "        (str): The movie title as an abbreviation\n",
        "\n",
        "    Examples:\n",
        "        >>> convert_to_abbrev(\"The Winter Soldier\")\n",
        "            \"CATWS\"\n",
        "        >>> convert_to_abbrev(\"The Dark World\")\n",
        "            \"TDW\"\n",
        "    \"\"\"\n",
        "    print(f'Hello! This Directory will provide the necessary movies to watch before a given Multiverse Saga movie. Please enter your movie as one of the following: ')\n",
        "    print()\n",
        "\n",
        "    print(f' \\t 1. Full title (eg. Captain America: The Winter Soldier)')\n",
        "\n",
        "    print(f' \\t 2. Character sequel name (eg. Captain America 2)')\n",
        "\n",
        "    print(f' \\t 3. A shortened version (eg. The Winter Soldier)')\n",
        "\n",
        "    print()\n",
        "\n",
        "    movie = input(\"Enter movie title: \")\n",
        "\n",
        "    # Mostly for programmer ease; easier to type abbrev than full title\n",
        "    if movie in name_dict.keys():\n",
        "        # Early exit\n",
        "        return movie.upper()\n",
        "\n",
        "    else:\n",
        "        movie = movie.lower()\n",
        "\n",
        "        # Checks for membership in each value's list as variations may occur in user input\n",
        "        for key in name_dict.keys():\n",
        "            if movie in name_dict[key]:\n",
        "                # Early exit\n",
        "                return key\n",
        "\n",
        "    return \"Movie name not recognized. Did you misspell it?\""
      ],
      "metadata": {
        "id": "BxQEln3xMwzl"
      },
      "execution_count": 85,
      "outputs": []
    },
    {
      "cell_type": "code",
      "source": [
        "def convert_to_full(movie: str) -> str:\n",
        "    \"\"\"\n",
        "    Converts the abbreviated version to its full title.\n",
        "\n",
        "    Args:\n",
        "        movie(str): The movie title as an abbreviation\n",
        "\n",
        "    Returns:\n",
        "        (str): The full movie title\n",
        "\n",
        "    Examples:\n",
        "        >>> convert_to_full(\"CATWS\")\n",
        "            \"Captain America: The Winter Soldier\"\n",
        "        >>> convert_to_full(\"THDW\")\n",
        "            \"Thor: The Dark World\"\n",
        "    \"\"\"\n",
        "\n",
        "    for key in name_dict.keys():\n",
        "\n",
        "        if movie == key:\n",
        "            # The first element is always the formal title, others are variations\n",
        "            full_name = str(name_dict[key][0]).title() + ' ' + '(' + str(name_dict[key][-1]) + ')'\n",
        "\n",
        "            # Early exit\n",
        "            return full_name\n",
        "\n",
        "    for key in tv_dict.keys():\n",
        "\n",
        "        if movie == key:\n",
        "            full_name = str(tv_dict[key]).title()\n",
        "\n",
        "            # Early exit\n",
        "            return full_name\n",
        "\n",
        "    # Returns itself if abbreviation is not registered in name_dict or tv_dict\n",
        "    return movie"
      ],
      "metadata": {
        "id": "e--K3jzGukwg"
      },
      "execution_count": 86,
      "outputs": []
    },
    {
      "cell_type": "markdown",
      "source": [
        "# 🔢 Compiling"
      ],
      "metadata": {
        "id": "6w4__khWdb1E"
      }
    },
    {
      "cell_type": "code",
      "source": [
        "def movie_list_generator() -> None:\n",
        "    \"\"\"\n",
        "    Returns the list of must watch movies for Multiverse Saga.\n",
        "\n",
        "    Args:\n",
        "        None (user input)\n",
        "\n",
        "    Returns:\n",
        "        None\n",
        "    \"\"\"\n",
        "    # Corresponds to the dictionaries with the corresponding movies\n",
        "    dictionaries = [must_watch, plot, characters]\n",
        "\n",
        "    # Minimizes redundancy\n",
        "    phrase = ['should definitely watch before seeing the movie', 'can watch to better understand the plot', 'can watch to better understand the characters']\n",
        "\n",
        "    movie = convert_to_abbrev()\n",
        "\n",
        "    print()\n",
        "    print(f'| {convert_to_full(movie)}')\n",
        "\n",
        "\n",
        "\n",
        "    # Makes sure movie is in Multiverse Saga\n",
        "    for key in phases.keys():\n",
        "        if movie in phases[key]:\n",
        "            return \"This directory only handles movies from the Multiverse Saga onwards. Try a movie after 2019!\"\n",
        "\n",
        "    # Repeats for must-watch, characters, and plot movies\n",
        "    for i in range(3):\n",
        "        # Establish what function and phrase are in this iteration\n",
        "        target_list = dictionaries[i]\n",
        "        target_phrase = phrase[i]\n",
        "\n",
        "        movie_list = []\n",
        "\n",
        "        for key in target_list.keys():\n",
        "            # Scans target dictionary for movies that have user input as a value\n",
        "            if movie in target_list[key]:\n",
        "                movie_list += [key]\n",
        "\n",
        "        if target_list == must_watch and len(movie_list) == 0:\n",
        "            # Clarity for only the must-watch category\n",
        "            print(f'| There is nothing you HAVE to watch before seeing the movie!')\n",
        "\n",
        "        # No movies in category\n",
        "        if len(movie_list) != 0:\n",
        "            # Divider\n",
        "            print((len(phrase[-1])) * '-')\n",
        "            print(f'| Here are some movies you {target_phrase}: ')\n",
        "            print(f'|')\n",
        "            for i in range(len(movie_list)):\n",
        "                target = convert_to_full(movie_list[i])\n",
        "                print(f'| * {target}')\n",
        "            print()"
      ],
      "metadata": {
        "id": "Wl3m0g27QSKb"
      },
      "execution_count": 87,
      "outputs": []
    },
    {
      "cell_type": "code",
      "source": [
        "movie_list_generator()"
      ],
      "metadata": {
        "id": "Zi2rsUG2RAYQ",
        "colab": {
          "base_uri": "https://localhost:8080/"
        },
        "outputId": "9e1b7b24-e34a-4016-c781-021843831889"
      },
      "execution_count": 89,
      "outputs": [
        {
          "output_type": "stream",
          "name": "stdout",
          "text": [
            "Hello! This Directory will provide the necessary movies to watch before a given Multiverse Saga movie. Please enter your movie as one of the following: \n",
            "\n",
            " \t 1. Full title (eg. Captain America: The Winter Soldier)\n",
            " \t 2. Character sequel name (eg. Captain America 2)\n",
            " \t 3. A shortened version (eg. The Winter Soldier)\n",
            "\n",
            "Enter movie title: thunderbolts\n",
            "\n",
            "| Thunderbolts* (2025)\n",
            "---------------------------------------------\n",
            "| Here are some movies you should definitely watch before seeing the movie: \n",
            "|\n",
            "| * Ant-Man And The Wasp (2018)\n",
            "| * The Falcon And The Winter Soldier (2021)\n",
            "| * Black Widow (2021)\n",
            "| * Hawkeye (2021)\n",
            "\n",
            "---------------------------------------------\n",
            "| Here are some movies you can watch to better understand the plot: \n",
            "|\n",
            "| * Black Panther: Wakanda Forever (2022)\n",
            "\n",
            "---------------------------------------------\n",
            "| Here are some movies you can watch to better understand the characters: \n",
            "|\n",
            "| * Captain America: Brave New World (2025)\n",
            "\n"
          ]
        }
      ]
    }
  ]
}